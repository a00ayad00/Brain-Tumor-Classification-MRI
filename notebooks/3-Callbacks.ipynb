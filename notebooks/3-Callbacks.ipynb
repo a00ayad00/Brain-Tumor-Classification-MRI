{
 "cells": [
  {
   "cell_type": "code",
   "execution_count": 1,
   "id": "062b0cc7-f280-4efe-aa4d-d8b191f06d02",
   "metadata": {},
   "outputs": [
    {
     "name": "stdout",
     "output_type": "stream",
     "text": [
      "/home/sagemaker-user/Brain-Tumor-Classification-MRI/notebooks\n"
     ]
    }
   ],
   "source": [
    "!pwd"
   ]
  },
  {
   "cell_type": "code",
   "execution_count": 2,
   "id": "195edc4e-964a-4726-beaa-5464f94701aa",
   "metadata": {},
   "outputs": [
    {
     "name": "stdout",
     "output_type": "stream",
     "text": [
      "/home/sagemaker-user/Brain-Tumor-Classification-MRI\n"
     ]
    }
   ],
   "source": [
    "%cd .."
   ]
  },
  {
   "cell_type": "markdown",
   "id": "4df57a6f-fa82-4645-be24-debcb6342f4b",
   "metadata": {},
   "source": [
    "# Callbacks Configuration"
   ]
  },
  {
   "cell_type": "code",
   "execution_count": 23,
   "id": "9fb35583-7bf8-4e66-8b57-7992552569e8",
   "metadata": {},
   "outputs": [],
   "source": [
    "from dataclasses import dataclass"
   ]
  },
  {
   "cell_type": "code",
   "execution_count": 20,
   "id": "5252aabd-8e6a-48f1-9782-5da6259d806a",
   "metadata": {},
   "outputs": [],
   "source": [
    "@dataclass\n",
    "class CallbacksConfig:\n",
    "    callbacks_folder: str\n",
    "    tensorboard_dir: str\n",
    "    checkpoint_path: str"
   ]
  },
  {
   "cell_type": "markdown",
   "id": "074119a0-fab7-485b-b0d7-82b1d9716c24",
   "metadata": {},
   "source": [
    "# Configuration Manager"
   ]
  },
  {
   "cell_type": "code",
   "execution_count": 6,
   "id": "5fce0fae-afea-46dc-8057-064f2caab5b5",
   "metadata": {},
   "outputs": [],
   "source": [
    "from src.utils import read_yaml, create_dirs\n",
    "from src.constants import *\n",
    "import os"
   ]
  },
  {
   "cell_type": "code",
   "execution_count": 24,
   "id": "c5d483ec-3169-4465-bba7-723f29b04b52",
   "metadata": {},
   "outputs": [],
   "source": [
    "class ConfigManager:\n",
    "    def __init__(self, config_path=CONFIG_PATH, params_path=PARAMS_PATH):\n",
    "        self.config = read_yaml(config_path)\n",
    "        self.artifacts_folder = self.config.artifacts_root\n",
    "        create_dirs([self.artifacts_folder])\n",
    "\n",
    "    def get_callbacks_config(self):\n",
    "        config = self.config.callbacks\n",
    "        tensorboard_dir = os.path.join(\n",
    "            self.artifacts_folder, config.folder_name, config.tensorboard_folder_name\n",
    "        )\n",
    "        checkpoint_path = os.path.join(\n",
    "            self.artifacts_folder, config.folder_name, config.checkpoint\n",
    "        )\n",
    "        \n",
    "        create_dirs([\n",
    "            tensorboard_dir,\n",
    "            os.path.dirname(checkpoint_path)\n",
    "        ])\n",
    "\n",
    "        return CallbacksConfig(\n",
    "            callbacks_folder = self.config.callbacks,\n",
    "            tensorboard_dir = tensorboard_dir,\n",
    "            checkpoint_path = checkpoint_path\n",
    "        )"
   ]
  },
  {
   "cell_type": "markdown",
   "id": "3a0ffb0b-5a50-4692-bcd2-89ef4ab7e636",
   "metadata": {},
   "source": [
    "# Callbacks Function"
   ]
  },
  {
   "cell_type": "code",
   "execution_count": 10,
   "id": "b5f8d63a-158e-4c8c-945f-530806a5b8ea",
   "metadata": {},
   "outputs": [],
   "source": [
    "import tensorflow as tf\n",
    "import time"
   ]
  },
  {
   "cell_type": "code",
   "execution_count": 27,
   "id": "8b440d8d-8b7c-478b-932f-68904a8b8522",
   "metadata": {},
   "outputs": [],
   "source": [
    "class Callbacks:\n",
    "    def __init__(self, config: CallbacksConfig):\n",
    "        self.config = config\n",
    "\n",
    "    @property\n",
    "    def _tensorboard(self):\n",
    "        timestamp = time.strftime(\"%Y-%m-%d-T%H-%M-%S\")\n",
    "        logs_dir = os.path.join(self.config.tensorboard_dir, timestamp)\n",
    "        return tf.keras.callbacks.TensorBoard(logs_dir)\n",
    "\n",
    "    @property\n",
    "    def _checkpoint(self):\n",
    "        return tf.keras.callbacks.ModelCheckpoint(\n",
    "            filepath = self.config.checkpoint_path,\n",
    "            save_best_only = True\n",
    "        )\n",
    "\n",
    "    def get_callbacks(self):\n",
    "        return [self._tensorboard, self._checkpoint]"
   ]
  },
  {
   "cell_type": "markdown",
   "id": "eada77d8-32af-40a3-a245-11ee8eeb276e",
   "metadata": {},
   "source": [
    "# Perform The Step"
   ]
  },
  {
   "cell_type": "code",
   "execution_count": 28,
   "id": "5a1a32f8-20fc-4727-a950-0f612476a269",
   "metadata": {},
   "outputs": [
    {
     "name": "stdout",
     "output_type": "stream",
     "text": [
      "[2024-09-26 18:26:25,489: INFO: utils: The file: config.yaml loaded successfully...]\n",
      "[2024-09-26 18:26:25,492: INFO: utils: The file: params.yaml loaded successfully...]\n",
      "[2024-09-26 18:26:25,493: INFO: utils: Directory 'artifacts' was successfully created...]\n",
      "[2024-09-26 18:26:25,495: INFO: utils: Directory 'artifacts/callbacks/tensorboard' was successfully created...]\n",
      "[2024-09-26 18:26:25,496: INFO: utils: Directory 'artifacts/callbacks/checkpoint' was successfully created...]\n"
     ]
    }
   ],
   "source": [
    "try:\n",
    "    config = ConfigManager().get_callbacks_config()\n",
    "    Callbacks(config).get_callbacks()\n",
    "except Exception as e:\n",
    "    raise e"
   ]
  }
 ],
 "metadata": {
  "kernelspec": {
   "display_name": "Python 3 (ipykernel)",
   "language": "python",
   "name": "python3"
  },
  "language_info": {
   "codemirror_mode": {
    "name": "ipython",
    "version": 3
   },
   "file_extension": ".py",
   "mimetype": "text/x-python",
   "name": "python",
   "nbconvert_exporter": "python",
   "pygments_lexer": "ipython3",
   "version": "3.10.14"
  }
 },
 "nbformat": 4,
 "nbformat_minor": 5
}
