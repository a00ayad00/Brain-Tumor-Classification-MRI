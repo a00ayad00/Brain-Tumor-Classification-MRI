{
 "cells": [
  {
   "cell_type": "code",
   "execution_count": 5,
   "id": "8f8ec2a5-1080-4ae0-8a9d-048966b1b458",
   "metadata": {},
   "outputs": [
    {
     "name": "stdout",
     "output_type": "stream",
     "text": [
      "/home/sagemaker-user/Brain-Tumor-Classification-MRI/notebooks\n"
     ]
    }
   ],
   "source": [
    "!pwd"
   ]
  },
  {
   "cell_type": "code",
   "execution_count": 6,
   "id": "9672bb6d-1356-4100-b45b-5c1207740ef6",
   "metadata": {},
   "outputs": [
    {
     "name": "stdout",
     "output_type": "stream",
     "text": [
      "/home/sagemaker-user/Brain-Tumor-Classification-MRI\n"
     ]
    }
   ],
   "source": [
    "%cd .."
   ]
  },
  {
   "cell_type": "code",
   "execution_count": 3,
   "id": "2cfdd235-7a4f-401b-b254-6de528172508",
   "metadata": {},
   "outputs": [],
   "source": [
    "import os\n",
    "from tensorflow.keras.preprocessing import image\n",
    "from tensorflow.keras.models import load_model\n",
    "import numpy as np"
   ]
  },
  {
   "cell_type": "code",
   "execution_count": 72,
   "id": "b2de620a-3e75-480a-8027-9055df602799",
   "metadata": {},
   "outputs": [],
   "source": [
    "class Inference:\n",
    "    def __init__(self, model_path):\n",
    "        self.model = load_model(model_path)\n",
    "\n",
    "    def predict(self, file_path):\n",
    "        idx_to_label = {\n",
    "            0: 'Glioma Tumor',\n",
    "            1: 'Meningioma Tumor',\n",
    "            2: 'No Tumor',\n",
    "            3: 'Pituitary Tumor'\n",
    "        }\n",
    "        img = image.load_img(file_path, target_size=(224, 224))\n",
    "        img = image.img_to_array(img)\n",
    "        img = np.expand_dims(img, axis=0)\n",
    "\n",
    "        scores = self.model.predict(img)[0]\n",
    "        idx = np.argmax(scores, axis=0)\n",
    "\n",
    "        return {\n",
    "            'Class': idx_to_label[idx],\n",
    "            'Confidence': scores[idx]\n",
    "        }"
   ]
  },
  {
   "cell_type": "code",
   "execution_count": 61,
   "id": "f06cdcb9-e703-4b13-9fb1-a3f61be77690",
   "metadata": {},
   "outputs": [],
   "source": [
    "model_path = os.path.join('artifacts', 'training', 'model.h5')\n",
    "test_file = os.path.join('artifacts', 'data', 'Testing', 'no_tumor', 'image(9).jpg')"
   ]
  },
  {
   "cell_type": "code",
   "execution_count": 73,
   "id": "9e9c73e9-c970-44f6-9741-d1cd31d0402f",
   "metadata": {},
   "outputs": [
    {
     "name": "stdout",
     "output_type": "stream",
     "text": [
      "1/1 [==============================] - 0s 148ms/step\n"
     ]
    },
    {
     "data": {
      "text/plain": [
       "{'Class': 'No Tumor', 'Confidence': 0.726332}"
      ]
     },
     "execution_count": 73,
     "metadata": {},
     "output_type": "execute_result"
    }
   ],
   "source": [
    "inf = Inference(model_path)\n",
    "inf.predict(test_file)"
   ]
  },
  {
   "cell_type": "code",
   "execution_count": null,
   "id": "cd6502ba-c89c-4ca2-a720-3cdc0aa1224f",
   "metadata": {},
   "outputs": [],
   "source": []
  }
 ],
 "metadata": {
  "kernelspec": {
   "display_name": "Python 3 (ipykernel)",
   "language": "python",
   "name": "python3"
  },
  "language_info": {
   "codemirror_mode": {
    "name": "ipython",
    "version": 3
   },
   "file_extension": ".py",
   "mimetype": "text/x-python",
   "name": "python",
   "nbconvert_exporter": "python",
   "pygments_lexer": "ipython3",
   "version": "3.10.14"
  }
 },
 "nbformat": 4,
 "nbformat_minor": 5
}
