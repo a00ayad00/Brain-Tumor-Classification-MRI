{
 "cells": [
  {
   "cell_type": "code",
   "execution_count": 1,
   "id": "87a5d295-695e-45b5-929e-b05f4d84317d",
   "metadata": {},
   "outputs": [
    {
     "name": "stdout",
     "output_type": "stream",
     "text": [
      "/home/sagemaker-user/Brain-Tumor-Classification-MRI/notebooks\n"
     ]
    }
   ],
   "source": [
    "!pwd"
   ]
  },
  {
   "cell_type": "code",
   "execution_count": 2,
   "id": "8552f3a5-1ed2-44c1-beb1-b1085da1060b",
   "metadata": {},
   "outputs": [
    {
     "name": "stdout",
     "output_type": "stream",
     "text": [
      "/home/sagemaker-user/Brain-Tumor-Classification-MRI\n"
     ]
    }
   ],
   "source": [
    "%cd .."
   ]
  },
  {
   "cell_type": "markdown",
   "id": "be8acfe7-81c0-4cc4-8c24-b7df494b9dcc",
   "metadata": {},
   "source": [
    "# Create Model Configuration"
   ]
  },
  {
   "cell_type": "code",
   "execution_count": 3,
   "id": "617dff76-c6d5-4e3d-89e5-9f0f4c7d7125",
   "metadata": {},
   "outputs": [],
   "source": [
    "from dataclasses import dataclass\n",
    "from pathlib import Path"
   ]
  },
  {
   "cell_type": "code",
   "execution_count": 4,
   "id": "88038f7a-f516-42af-bb55-24d1a93943b5",
   "metadata": {},
   "outputs": [],
   "source": [
    "@dataclass\n",
    "class ModelConfig:\n",
    "    config_root_dir: Path\n",
    "    config_model_path: Path\n",
    "    config_updated_model_path: Path\n",
    "    params_image_size: list\n",
    "    params_lr: float\n",
    "    params_include_top: bool\n",
    "    params_weights: str\n",
    "    params_classes: int"
   ]
  },
  {
   "cell_type": "markdown",
   "id": "9e32eabc-357c-4e51-ba8a-5e2f82c006d0",
   "metadata": {},
   "source": [
    "# Create Configuration Manager"
   ]
  },
  {
   "cell_type": "code",
   "execution_count": 5,
   "id": "ce2d5d52-1fd4-4ed5-8bc2-b9739d639c27",
   "metadata": {},
   "outputs": [],
   "source": [
    "from src.utils import read_yaml, create_dirs\n",
    "from src.constants import *\n",
    "import os"
   ]
  },
  {
   "cell_type": "code",
   "execution_count": 6,
   "id": "eb763c79-7066-4e11-8e66-345e4c98db13",
   "metadata": {},
   "outputs": [],
   "source": [
    "class ConfigManager:\n",
    "    def __init__(self, config_path=CONFIG_PATH, params_path=PARAMS_PATH):\n",
    "        self.config = read_yaml(config_path)\n",
    "        self.params = read_yaml(params_path)\n",
    "        self.artifacts_folder = self.config.artifacts_folder\n",
    "        create_dirs([self.artifacts_folder])\n",
    "\n",
    "    def get_model_config(self):\n",
    "        model_config = self.config.model\n",
    "        model_params = self.params\n",
    "        create_dirs([model_config.model_folder_name])\n",
    "        return ModelConfig(\n",
    "            config_root_dir = Path(os.path.join(self.artifacts_folder, model_config.model_folder_name)),\n",
    "            config_model_path = Path(os.path.join(self.artifacts_folder, model_config.model_path)),\n",
    "            config_updated_model_path = Path(os.path.join(self.artifacts_folder, model_config.updated_model_path)),\n",
    "            params_image_size = model_params.IMAGE_SIZE,\n",
    "            params_lr = model_params.LEARNING_RATE,\n",
    "            params_include_top = model_params.INCLUDE_TOP,\n",
    "            params_weights = model_params.WEIGHTS,\n",
    "            params_classes = model_params.CLASSES\n",
    "        )"
   ]
  },
  {
   "cell_type": "markdown",
   "id": "d30d9591-a1dc-4531-9f09-f16803ed5e1d",
   "metadata": {},
   "source": [
    "# Download The Model"
   ]
  },
  {
   "cell_type": "code",
   "execution_count": 7,
   "id": "ceddaa67-a87b-4a79-9aa3-5607a314c314",
   "metadata": {},
   "outputs": [
    {
     "name": "stderr",
     "output_type": "stream",
     "text": [
      "2024-09-28 07:03:25.329329: I tensorflow/core/util/port.cc:113] oneDNN custom operations are on. You may see slightly different numerical results due to floating-point round-off errors from different computation orders. To turn them off, set the environment variable `TF_ENABLE_ONEDNN_OPTS=0`.\n",
      "2024-09-28 07:03:25.356904: I tensorflow/core/platform/cpu_feature_guard.cc:182] This TensorFlow binary is optimized to use available CPU instructions in performance-critical operations.\n",
      "To enable the following instructions: SSE4.1 SSE4.2 AVX AVX2 AVX512F AVX512_VNNI FMA, in other operations, rebuild TensorFlow with the appropriate compiler flags.\n"
     ]
    }
   ],
   "source": [
    "import tensorflow as tf"
   ]
  },
  {
   "cell_type": "code",
   "execution_count": 8,
   "id": "bf75fab1-51c7-4cc1-80b2-d0abd7572ae4",
   "metadata": {},
   "outputs": [],
   "source": [
    "class Model:\n",
    "    def __init__(self, config: ModelConfig):\n",
    "        self.config = config\n",
    "\n",
    "    \n",
    "    def download(self):\n",
    "        self.model = tf.keras.applications.vgg19.VGG19(\n",
    "            input_shape = self.config.params_image_size,\n",
    "            include_top = self.config.params_include_top,\n",
    "            weights = self.config.params_weights\n",
    "        )\n",
    "        self.model.save(self.config.config_model_path)\n",
    "\n",
    "    \n",
    "    @staticmethod\n",
    "    def _prepare(model, freeze_all=True, freeze_till=None, learning_rate=0.01, classes=4):\n",
    "        if freeze_all:\n",
    "            for layer in model.layers:\n",
    "                layer.trainable = False\n",
    "        elif (freeze_till is not None) and (freeze_till > 0):\n",
    "            for layer in model.layers[:-freeze_till]:\n",
    "                layer.trainable = False\n",
    "\n",
    "        flatten = tf.keras.layers.Flatten()(model.output)\n",
    "        output_dense = tf.keras.layers.Dense(classes, activation='softmax')(flatten)\n",
    "        final_model = tf.keras.models.Model(\n",
    "            inputs=model.input, outputs=output_dense\n",
    "        )\n",
    "\n",
    "        final_model.compile(\n",
    "            optimizer = tf.keras.optimizers.SGD(learning_rate=learning_rate),\n",
    "            loss = tf.keras.losses.CategoricalCrossentropy(),\n",
    "            metrics = [\"accuracy\"]\n",
    "        )\n",
    "        final_model.summary()\n",
    "\n",
    "        return final_model\n",
    "\n",
    "\n",
    "    def update(self):\n",
    "        self.final_model = self._prepare(\n",
    "            model = self.model,\n",
    "            freeze_all = False,\n",
    "            freeze_till = None,\n",
    "            learning_rate = self.config.params_lr,\n",
    "            classes = self.config.params_classes\n",
    "        )\n",
    "        self.final_model.save(self.config.config_updated_model_path)"
   ]
  },
  {
   "cell_type": "markdown",
   "id": "ab1052ad-648b-43c5-90dc-2c5b188b466a",
   "metadata": {},
   "source": [
    "# Perform The Step"
   ]
  },
  {
   "cell_type": "code",
   "execution_count": 9,
   "id": "85d7365a-577c-43ae-aa62-4fa37fd36655",
   "metadata": {},
   "outputs": [
    {
     "name": "stdout",
     "output_type": "stream",
     "text": [
      "[2024-09-28 07:03:27,109: INFO: utils: Directory 'model' was successfully created...]\n",
      "[2024-09-28 07:03:27,514: WARNING: saving_utils: Compiled the loaded model, but the compiled metrics have yet to be built. `model.compile_metrics` will be empty until you train or evaluate the model.]\n"
     ]
    },
    {
     "name": "stderr",
     "output_type": "stream",
     "text": [
      "/opt/conda/lib/python3.10/site-packages/keras/src/engine/training.py:3103: UserWarning: You are saving your model as an HDF5 file via `model.save()`. This file format is considered legacy. We recommend using instead the native Keras format, e.g. `model.save('my_model.keras')`.\n",
      "  saving_api.save_model(\n"
     ]
    },
    {
     "name": "stdout",
     "output_type": "stream",
     "text": [
      "Model: \"model\"\n",
      "_________________________________________________________________\n",
      " Layer (type)                Output Shape              Param #   \n",
      "=================================================================\n",
      " input_1 (InputLayer)        [(None, 224, 224, 3)]     0         \n",
      "                                                                 \n",
      " block1_conv1 (Conv2D)       (None, 224, 224, 64)      1792      \n",
      "                                                                 \n",
      " block1_conv2 (Conv2D)       (None, 224, 224, 64)      36928     \n",
      "                                                                 \n",
      " block1_pool (MaxPooling2D)  (None, 112, 112, 64)      0         \n",
      "                                                                 \n",
      " block2_conv1 (Conv2D)       (None, 112, 112, 128)     73856     \n",
      "                                                                 \n",
      " block2_conv2 (Conv2D)       (None, 112, 112, 128)     147584    \n",
      "                                                                 \n",
      " block2_pool (MaxPooling2D)  (None, 56, 56, 128)       0         \n",
      "                                                                 \n",
      " block3_conv1 (Conv2D)       (None, 56, 56, 256)       295168    \n",
      "                                                                 \n",
      " block3_conv2 (Conv2D)       (None, 56, 56, 256)       590080    \n",
      "                                                                 \n",
      " block3_conv3 (Conv2D)       (None, 56, 56, 256)       590080    \n",
      "                                                                 \n",
      " block3_conv4 (Conv2D)       (None, 56, 56, 256)       590080    \n",
      "                                                                 \n",
      " block3_pool (MaxPooling2D)  (None, 28, 28, 256)       0         \n",
      "                                                                 \n",
      " block4_conv1 (Conv2D)       (None, 28, 28, 512)       1180160   \n",
      "                                                                 \n",
      " block4_conv2 (Conv2D)       (None, 28, 28, 512)       2359808   \n",
      "                                                                 \n",
      " block4_conv3 (Conv2D)       (None, 28, 28, 512)       2359808   \n",
      "                                                                 \n",
      " block4_conv4 (Conv2D)       (None, 28, 28, 512)       2359808   \n",
      "                                                                 \n",
      " block4_pool (MaxPooling2D)  (None, 14, 14, 512)       0         \n",
      "                                                                 \n",
      " block5_conv1 (Conv2D)       (None, 14, 14, 512)       2359808   \n",
      "                                                                 \n",
      " block5_conv2 (Conv2D)       (None, 14, 14, 512)       2359808   \n",
      "                                                                 \n",
      " block5_conv3 (Conv2D)       (None, 14, 14, 512)       2359808   \n",
      "                                                                 \n",
      " block5_conv4 (Conv2D)       (None, 14, 14, 512)       2359808   \n",
      "                                                                 \n",
      " block5_pool (MaxPooling2D)  (None, 7, 7, 512)         0         \n",
      "                                                                 \n",
      " flatten (Flatten)           (None, 25088)             0         \n",
      "                                                                 \n",
      " dense (Dense)               (None, 4)                 100356    \n",
      "                                                                 \n",
      "=================================================================\n",
      "Total params: 20124740 (76.77 MB)\n",
      "Trainable params: 20124740 (76.77 MB)\n",
      "Non-trainable params: 0 (0.00 Byte)\n",
      "_________________________________________________________________\n"
     ]
    }
   ],
   "source": [
    "try:\n",
    "    config = ConfigManager()\n",
    "    model_config = config.get_model_config()\n",
    "    model = Model(model_config)\n",
    "    model.download()\n",
    "    model.update()\n",
    "except Exception as e:\n",
    "    raise e"
   ]
  }
 ],
 "metadata": {
  "kernelspec": {
   "display_name": "Python 3 (ipykernel)",
   "language": "python",
   "name": "python3"
  },
  "language_info": {
   "codemirror_mode": {
    "name": "ipython",
    "version": 3
   },
   "file_extension": ".py",
   "mimetype": "text/x-python",
   "name": "python",
   "nbconvert_exporter": "python",
   "pygments_lexer": "ipython3",
   "version": "3.10.14"
  }
 },
 "nbformat": 4,
 "nbformat_minor": 5
}
