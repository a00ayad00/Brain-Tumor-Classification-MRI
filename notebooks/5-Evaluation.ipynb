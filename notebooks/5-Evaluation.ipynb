{
 "cells": [
  {
   "cell_type": "code",
   "execution_count": 1,
   "id": "c73a3d9c-b20f-4eb1-a3d6-e74448f6017e",
   "metadata": {},
   "outputs": [
    {
     "name": "stdout",
     "output_type": "stream",
     "text": [
      "/home/sagemaker-user/Brain-Tumor-Classification-MRI/notebooks\n"
     ]
    }
   ],
   "source": [
    "!pwd"
   ]
  },
  {
   "cell_type": "code",
   "execution_count": 2,
   "id": "7f63d87d-fc40-4e6d-bfd2-9fc6d3cee237",
   "metadata": {},
   "outputs": [
    {
     "name": "stdout",
     "output_type": "stream",
     "text": [
      "/home/sagemaker-user/Brain-Tumor-Classification-MRI\n"
     ]
    }
   ],
   "source": [
    "%cd .."
   ]
  },
  {
   "cell_type": "markdown",
   "id": "afc34550-d349-4cd5-a1ab-af9b51f80be6",
   "metadata": {},
   "source": [
    "# Evaluation Configuration"
   ]
  },
  {
   "cell_type": "code",
   "execution_count": 13,
   "id": "6a7beb46-09f3-4a08-9869-75a13cbd3c4f",
   "metadata": {},
   "outputs": [],
   "source": [
    "from dataclasses import dataclass\n",
    "import warnings\n",
    "warnings.filterwarnings('ignore')"
   ]
  },
  {
   "cell_type": "code",
   "execution_count": 25,
   "id": "6d486eac-553e-4944-9525-a81ad0812296",
   "metadata": {},
   "outputs": [],
   "source": [
    "@dataclass\n",
    "class EvalConfig:\n",
    "    model_path: str\n",
    "    testing_data: str\n",
    "    params_image_size: list\n",
    "    params_batch_size: int"
   ]
  },
  {
   "cell_type": "markdown",
   "id": "9943a8a4-de34-43d1-a946-ac1d93bc3c36",
   "metadata": {},
   "source": [
    "# Configuration Manager"
   ]
  },
  {
   "cell_type": "code",
   "execution_count": 9,
   "id": "45ac29bb-a8dd-4f9f-9c63-9f457d9b3b71",
   "metadata": {},
   "outputs": [],
   "source": [
    "from src.constants import *\n",
    "from src.utils import read_yaml, create_dirs\n",
    "from src import logger\n",
    "from src.config import ConfigManager\n",
    "import os"
   ]
  },
  {
   "cell_type": "code",
   "execution_count": 24,
   "id": "dbcdd858-a7b6-49c9-9604-04e3f89c05df",
   "metadata": {},
   "outputs": [],
   "source": [
    "class ConfigManager(ConfigManager):\n",
    "    def get_eval_config(self):\n",
    "        return EvalConfig(\n",
    "            model_path = os.path.join(self.artifacts_folder, self.config.training.trained_model_path),\n",
    "            testing_data = os.path.join(self.artifacts_folder, self.config.data.data_folder_name, 'Testing'),\n",
    "            params_image_size=self.params.IMAGE_SIZE,\n",
    "            params_batch_size=self.params.BATCH_SIZE\n",
    "        )"
   ]
  },
  {
   "cell_type": "markdown",
   "id": "f024f753-535c-4bb0-a2d2-16167fd6f00a",
   "metadata": {},
   "source": [
    "# Eval Function"
   ]
  },
  {
   "cell_type": "code",
   "execution_count": 15,
   "id": "60c8d36f-39a4-43b6-99f4-64c21165aba2",
   "metadata": {},
   "outputs": [],
   "source": [
    "import tensorflow as tf\n",
    "import json"
   ]
  },
  {
   "cell_type": "code",
   "execution_count": 22,
   "id": "5fe96f8e-990d-40f3-bff9-c495c0f734b6",
   "metadata": {},
   "outputs": [],
   "source": [
    "class Eval:\n",
    "    def __init__(self, config: EvalConfig):\n",
    "        self.config = config\n",
    "\n",
    "    def _data_generator(self):\n",
    "        generator = tf.keras.preprocessing.image.ImageDataGenerator(rescale = 1./255)\n",
    "        self.generator = generator.flow_from_directory(\n",
    "            directory = self.config.testing_data,\n",
    "            shuffle = False,\n",
    "            target_size = self.config.params_image_size[:-1],\n",
    "            batch_size = self.config.params_batch_size,\n",
    "        )\n",
    "\n",
    "    def eval(self, path):\n",
    "        model = tf.keras.models.load_model(self.config.model_path)\n",
    "        self._data_generator()\n",
    "        score = model.evaluate(self.generator)\n",
    "        data = {\n",
    "            'loss': score[0],\n",
    "            'accuracy': score[1]\n",
    "        }\n",
    "        with open(path, \"w\") as f:\n",
    "            json.dump(data, f, indent=4)\n",
    "            logger.info(f\"\\nEvaluation file saved at: {path}\\n\")"
   ]
  },
  {
   "cell_type": "markdown",
   "id": "4df89667-7c2d-4895-96a8-c85a93727421",
   "metadata": {},
   "source": [
    "# Perform The Step"
   ]
  },
  {
   "cell_type": "code",
   "execution_count": 23,
   "id": "a6a9ff33-7019-4927-bf19-5ea0ce9769d8",
   "metadata": {},
   "outputs": [
    {
     "name": "stdout",
     "output_type": "stream",
     "text": [
      "[2024-09-28 17:50:58,547: INFO: utils: The file: config.yaml loaded successfully...]\n",
      "[2024-09-28 17:50:58,549: INFO: utils: The file: params.yaml loaded successfully...]\n",
      "Found 394 images belonging to 4 classes.\n",
      "13/13 [==============================] - 13s 947ms/step - loss: 1.3883 - accuracy: 0.2538\n",
      "[2024-09-28 17:51:12,249: INFO: 2468986840: \n",
      "Evaluation file saved at: artifacts/eval.json\n",
      "]\n"
     ]
    }
   ],
   "source": [
    "try:\n",
    "    config = ConfigManager().get_eval_config()\n",
    "    evaluate = Eval(config)\n",
    "    evaluate.eval('artifacts/eval.json')\n",
    "except Exception as e:\n",
    "    raise e"
   ]
  }
 ],
 "metadata": {
  "kernelspec": {
   "display_name": "Python 3 (ipykernel)",
   "language": "python",
   "name": "python3"
  },
  "language_info": {
   "codemirror_mode": {
    "name": "ipython",
    "version": 3
   },
   "file_extension": ".py",
   "mimetype": "text/x-python",
   "name": "python",
   "nbconvert_exporter": "python",
   "pygments_lexer": "ipython3",
   "version": "3.10.14"
  }
 },
 "nbformat": 4,
 "nbformat_minor": 5
}
