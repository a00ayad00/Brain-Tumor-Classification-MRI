{
 "cells": [
  {
   "cell_type": "code",
   "execution_count": 4,
   "id": "337e7e14-46d8-44bb-82e5-096f36057bf4",
   "metadata": {},
   "outputs": [
    {
     "name": "stdout",
     "output_type": "stream",
     "text": [
      "/home/sagemaker-user/Brain-Tumor-Classification-MRI/notebooks\n"
     ]
    }
   ],
   "source": [
    "!pwd"
   ]
  },
  {
   "cell_type": "code",
   "execution_count": 5,
   "id": "f6a500cd-aba4-412f-baa3-f9b9e921677c",
   "metadata": {},
   "outputs": [
    {
     "name": "stdout",
     "output_type": "stream",
     "text": [
      "/home/sagemaker-user/Brain-Tumor-Classification-MRI\n"
     ]
    }
   ],
   "source": [
    "%cd .."
   ]
  },
  {
   "cell_type": "markdown",
   "id": "02bd4c54-fd96-4441-a825-5c7728a2f6a8",
   "metadata": {},
   "source": [
    "# Training Configuration"
   ]
  },
  {
   "cell_type": "code",
   "execution_count": 6,
   "id": "8538ec6b-edae-4d7b-951d-c18c96d2b927",
   "metadata": {},
   "outputs": [],
   "source": [
    "from dataclasses import dataclass"
   ]
  },
  {
   "cell_type": "code",
   "execution_count": 7,
   "id": "8b20499d-a1fb-4db6-96e5-fd543096d764",
   "metadata": {},
   "outputs": [],
   "source": [
    "@dataclass\n",
    "class TrainingConfig:\n",
    "    training_folder: str\n",
    "    trained_model_path: str\n",
    "    updated_model_path: str\n",
    "    training_data: str\n",
    "    params_epochs: int\n",
    "    params_batch_size: int\n",
    "    params_augmentation: bool\n",
    "    params_image_size: list"
   ]
  },
  {
   "cell_type": "markdown",
   "id": "d4d1c8a6-594d-4072-a2b2-3c0aa5711a8d",
   "metadata": {},
   "source": [
    "# Configuration Manager"
   ]
  },
  {
   "cell_type": "code",
   "execution_count": 8,
   "id": "87f92f1d-843e-4fe0-83d2-81ca838eb589",
   "metadata": {},
   "outputs": [],
   "source": [
    "from src.config import ConfigManager\n",
    "from src.constants import *\n",
    "import os"
   ]
  },
  {
   "cell_type": "code",
   "execution_count": 9,
   "id": "88e08af4-285d-496a-b1c1-368f05eb9e05",
   "metadata": {},
   "outputs": [],
   "source": [
    "class ConfigManager(ConfigManager):\n",
    "    def get_training_config(self):\n",
    "        training_config = self.config.training\n",
    "        model_config = self.config.model\n",
    "        training_data_path = os.path.join(\n",
    "            self.artifacts_folder, self.config.data_ingestion.data_folder_name, 'Training'\n",
    "        )\n",
    "        \n",
    "        return TrainingConfig(\n",
    "            training_folder = os.path.join(self.artifacts_folder, training_config.folder_name),\n",
    "            trained_model_path = os.path.join(self.artifacts_folder, training_config.trained_model_path),\n",
    "            updated_model_path = os.path.join(self.artifacts_folder, self.config.model.updated_model_path),\n",
    "            training_data = training_data_path,\n",
    "            params_epochs = self.params.EPOCHS,\n",
    "            params_batch_size = self.params.BATCH_SIZE,\n",
    "            params_augmentation = self.params.AUGMENTATION,\n",
    "            params_image_size = self.params.IMAGE_SIZE\n",
    "        )"
   ]
  },
  {
   "cell_type": "markdown",
   "id": "1b9de209-9bca-4c87-9597-4f99a4954d57",
   "metadata": {},
   "source": [
    "# Train Function"
   ]
  },
  {
   "cell_type": "code",
   "execution_count": 7,
   "id": "8d4b6128-da04-4bf1-9fb9-3d825e2b1cad",
   "metadata": {},
   "outputs": [
    {
     "name": "stderr",
     "output_type": "stream",
     "text": [
      "2024-09-27 21:15:30.949057: I tensorflow/core/platform/cpu_feature_guard.cc:182] This TensorFlow binary is optimized to use available CPU instructions in performance-critical operations.\n",
      "To enable the following instructions: SSE4.1 SSE4.2 AVX AVX2 AVX512F FMA, in other operations, rebuild TensorFlow with the appropriate compiler flags.\n"
     ]
    }
   ],
   "source": [
    "import tensorflow as tf"
   ]
  },
  {
   "cell_type": "code",
   "execution_count": 19,
   "id": "d99992ed-ccf7-4c0a-897a-8934b5a6b608",
   "metadata": {},
   "outputs": [],
   "source": [
    "class Train:\n",
    "    def __init__(self, config: TrainingConfig):\n",
    "        self.config = config\n",
    "\n",
    "    def data_generator(self):\n",
    "        if self.config.params_augmentation:\n",
    "            train_generator = tf.keras.preprocessing.image.ImageDataGenerator(\n",
    "                rescale = 1/255.,\n",
    "                validation_split = 0.27,\n",
    "                rotation_range=40,\n",
    "                horizontal_flip=True,\n",
    "                width_shift_range=0.2,\n",
    "                height_shift_range=0.2,\n",
    "                shear_range=0.2,\n",
    "                zoom_range=0.2\n",
    "            )\n",
    "        else:\n",
    "            train_generator = tf.keras.preprocessing.image.ImageDataGenerator(\n",
    "                rescale = 1/255.,\n",
    "                validation_split = 0.27\n",
    "            )\n",
    "        self.train_generator = train_generator.flow_from_directory(\n",
    "            directory = self.config.training_data,\n",
    "            subset = 'training',\n",
    "            shuffle = True,\n",
    "            target_size = self.config.params_image_size[:-1],\n",
    "            batch_size = self.config.params_batch_size\n",
    "        )\n",
    "\n",
    "        val_generator = tf.keras.preprocessing.image.ImageDataGenerator(\n",
    "            rescale = 1/255.,\n",
    "            validation_split = 0.27\n",
    "        )\n",
    "        self.val_generator = val_generator.flow_from_directory(\n",
    "            directory = self.config.training_data,\n",
    "            subset = 'validation',\n",
    "            shuffle = True,\n",
    "            target_size = self.config.params_image_size[:-1],\n",
    "            batch_size = self.config.params_batch_size\n",
    "        )\n",
    "\n",
    "    def fit(self, callbacks: list):\n",
    "        model = tf.keras.models.load_model(self.config.updated_model_path)\n",
    "        steps_per_epoch = self.train_generator.samples // self.train_generator.batch_size\n",
    "        val_steps = self.val_generator.samples // self.val_generator.batch_size\n",
    "\n",
    "        model.fit(\n",
    "            self.train_generator,\n",
    "            epochs = self.config.params_epochs,\n",
    "            steps_per_epoch = steps_per_epoch,\n",
    "            validation_data = self.val_generator,\n",
    "            validation_steps = val_steps,\n",
    "            callbacks = callbacks\n",
    "        )\n",
    "\n",
    "        model.save(self.config.trained_model_path)"
   ]
  },
  {
   "cell_type": "markdown",
   "id": "15e9c4d2-b38d-4794-9ae7-1d673c307a6b",
   "metadata": {},
   "source": [
    "# Perform The Step"
   ]
  },
  {
   "cell_type": "code",
   "execution_count": 13,
   "id": "b3ee83f3-6cad-45b2-93e2-0e2cc1325081",
   "metadata": {},
   "outputs": [],
   "source": [
    "from src.components.callbacks import Callbacks"
   ]
  },
  {
   "cell_type": "code",
   "execution_count": null,
   "id": "48f8c8ec-0463-4fa6-986f-e2941b30165c",
   "metadata": {},
   "outputs": [
    {
     "name": "stdout",
     "output_type": "stream",
     "text": [
      "[2024-09-27 21:22:34,377: INFO: utils: The file: config.yaml loaded successfully...]\n",
      "[2024-09-27 21:22:34,380: INFO: utils: The file: params.yaml loaded successfully...]\n",
      "[2024-09-27 21:22:34,381: INFO: utils: Directory 'artifacts' was successfully created...]\n",
      "[2024-09-27 21:22:34,382: INFO: utils: Directory 'artifacts/callbacks/tensorboard' was successfully created...]\n",
      "[2024-09-27 21:22:34,382: INFO: utils: Directory 'artifacts/callbacks/checkpoint' was successfully created...]\n",
      "[2024-09-27 21:22:34,386: INFO: utils: The file: config.yaml loaded successfully...]\n",
      "[2024-09-27 21:22:34,388: INFO: utils: The file: params.yaml loaded successfully...]\n",
      "[2024-09-27 21:22:34,389: INFO: utils: Directory 'artifacts' was successfully created...]\n",
      "Found 2097 images belonging to 4 classes.\n",
      "Found 773 images belonging to 4 classes.\n",
      "Epoch 1/5\n"
     ]
    },
    {
     "name": "stderr",
     "output_type": "stream",
     "text": [
      "2024-09-27 21:22:36.672418: W external/local_tsl/tsl/framework/cpu_allocator_impl.cc:83] Allocation of 411041792 exceeds 10% of free system memory.\n",
      "2024-09-27 21:22:37.588460: W external/local_tsl/tsl/framework/cpu_allocator_impl.cc:83] Allocation of 411041792 exceeds 10% of free system memory.\n",
      "2024-09-27 21:22:39.490783: W external/local_tsl/tsl/framework/cpu_allocator_impl.cc:83] Allocation of 102760448 exceeds 10% of free system memory.\n",
      "2024-09-27 21:22:39.606008: W external/local_tsl/tsl/framework/cpu_allocator_impl.cc:83] Allocation of 205520896 exceeds 10% of free system memory.\n",
      "2024-09-27 21:22:40.256881: W external/local_tsl/tsl/framework/cpu_allocator_impl.cc:83] Allocation of 205520896 exceeds 10% of free system memory.\n"
     ]
    }
   ],
   "source": [
    "try:\n",
    "    callbacks_config = ConfigManager().get_callbacks_config()\n",
    "    callbacks = Callbacks(callbacks_config).get_callbacks()\n",
    "    \n",
    "    training_config = ConfigManager().get_training_config()\n",
    "    train = Train(training_config)\n",
    "    train.data_generator()\n",
    "    train.fit(callbacks)\n",
    "except Exception as e:\n",
    "    raise e"
   ]
  },
  {
   "cell_type": "markdown",
   "id": "70c7fe6c-20ca-4df5-b557-9de1912137c0",
   "metadata": {},
   "source": [
    "# Tensorboard Logs"
   ]
  },
  {
   "cell_type": "markdown",
   "id": "980581ad-9933-48e8-89c1-71dbf85e9c1c",
   "metadata": {},
   "source": [
    "#### If you want to see the logs, run the following terminal command:\n",
    "`tensorboard --logdir artifacts/callbacks/tensorboard`"
   ]
  },
  {
   "cell_type": "code",
   "execution_count": null,
   "id": "79056664-73e8-47ee-81c1-03e9b1b84afb",
   "metadata": {},
   "outputs": [],
   "source": []
  }
 ],
 "metadata": {
  "kernelspec": {
   "display_name": "Python 3 (ipykernel)",
   "language": "python",
   "name": "python3"
  },
  "language_info": {
   "codemirror_mode": {
    "name": "ipython",
    "version": 3
   },
   "file_extension": ".py",
   "mimetype": "text/x-python",
   "name": "python",
   "nbconvert_exporter": "python",
   "pygments_lexer": "ipython3",
   "version": "3.10.14"
  }
 },
 "nbformat": 4,
 "nbformat_minor": 5
}
