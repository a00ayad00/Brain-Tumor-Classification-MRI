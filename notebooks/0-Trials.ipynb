{
 "cells": [
  {
   "cell_type": "markdown",
   "id": "2c1ad398-1e09-43aa-8033-d7ba25c54ece",
   "metadata": {},
   "source": [
    "# ConfigBox"
   ]
  },
  {
   "cell_type": "code",
   "execution_count": 2,
   "id": "0b921b0d-ee56-44cd-a981-ff8f00ceac8a",
   "metadata": {},
   "outputs": [],
   "source": [
    "dic1 = {'k1':'v1', 'k2':'v2'}"
   ]
  },
  {
   "cell_type": "code",
   "execution_count": 3,
   "id": "af500499-edd0-4458-9624-00201e1dd0e7",
   "metadata": {},
   "outputs": [
    {
     "data": {
      "text/plain": [
       "'v2'"
      ]
     },
     "execution_count": 3,
     "metadata": {},
     "output_type": "execute_result"
    }
   ],
   "source": [
    "dic1['k2']"
   ]
  },
  {
   "cell_type": "code",
   "execution_count": 4,
   "id": "68d64b06-9d31-4fca-9104-a458706ee479",
   "metadata": {},
   "outputs": [
    {
     "ename": "AttributeError",
     "evalue": "'dict' object has no attribute 'k2'",
     "output_type": "error",
     "traceback": [
      "\u001b[0;31m---------------------------------------------------------------------------\u001b[0m",
      "\u001b[0;31mAttributeError\u001b[0m                            Traceback (most recent call last)",
      "Cell \u001b[0;32mIn[4], line 1\u001b[0m\n\u001b[0;32m----> 1\u001b[0m \u001b[43mdic1\u001b[49m\u001b[38;5;241;43m.\u001b[39;49m\u001b[43mk2\u001b[49m\n",
      "\u001b[0;31mAttributeError\u001b[0m: 'dict' object has no attribute 'k2'"
     ]
    }
   ],
   "source": [
    "dic1.k2"
   ]
  },
  {
   "cell_type": "code",
   "execution_count": 5,
   "id": "18bf9a3c-3ea2-4f8b-a2e8-464d81a03fdd",
   "metadata": {},
   "outputs": [
    {
     "data": {
      "text/plain": [
       "ConfigBox({'k1': 'v1', 'k2': 'v2'})"
      ]
     },
     "execution_count": 5,
     "metadata": {},
     "output_type": "execute_result"
    }
   ],
   "source": [
    "from box import ConfigBox\n",
    "\n",
    "dic1_box = ConfigBox(dic1)\n",
    "dic1_box"
   ]
  },
  {
   "cell_type": "code",
   "execution_count": 6,
   "id": "d7b401ca-3ad6-4839-a805-e8367e167501",
   "metadata": {},
   "outputs": [
    {
     "data": {
      "text/plain": [
       "'v2'"
      ]
     },
     "execution_count": 6,
     "metadata": {},
     "output_type": "execute_result"
    }
   ],
   "source": [
    "dic1_box.k2"
   ]
  },
  {
   "cell_type": "markdown",
   "id": "25e99afc-0740-493f-bbbe-e355c1a220ad",
   "metadata": {},
   "source": [
    "# ensure_annotations"
   ]
  },
  {
   "cell_type": "code",
   "execution_count": 7,
   "id": "2ba57781-69a8-4225-ba56-2947e8db2b0a",
   "metadata": {},
   "outputs": [],
   "source": [
    "def mul(v1: int, v2: int):\n",
    "    return v1*v2"
   ]
  },
  {
   "cell_type": "code",
   "execution_count": 8,
   "id": "e9631b35-8b74-4547-ba06-152a35ecc36c",
   "metadata": {},
   "outputs": [
    {
     "data": {
      "text/plain": [
       "30"
      ]
     },
     "execution_count": 8,
     "metadata": {},
     "output_type": "execute_result"
    }
   ],
   "source": [
    "mul(5, 6)"
   ]
  },
  {
   "cell_type": "code",
   "execution_count": 9,
   "id": "a37bdf8a-9149-441e-9b77-66fd01bdd121",
   "metadata": {},
   "outputs": [
    {
     "data": {
      "text/plain": [
       "'66666'"
      ]
     },
     "execution_count": 9,
     "metadata": {},
     "output_type": "execute_result"
    }
   ],
   "source": [
    "mul(5, '6')"
   ]
  },
  {
   "cell_type": "code",
   "execution_count": 6,
   "id": "ef5b47ea-83df-4d35-9d4e-865dde51be74",
   "metadata": {},
   "outputs": [],
   "source": [
    "from ensure import ensure_annotations"
   ]
  },
  {
   "cell_type": "code",
   "execution_count": 10,
   "id": "158df4cb-5d1c-453c-aa8f-c64892a790c4",
   "metadata": {},
   "outputs": [],
   "source": [
    "@ensure_annotations\n",
    "def mul(v1: int, v2: int):\n",
    "    return v1*v2"
   ]
  },
  {
   "cell_type": "code",
   "execution_count": 11,
   "id": "73242ccf-c145-4170-8c37-def8c752623a",
   "metadata": {},
   "outputs": [
    {
     "ename": "EnsureError",
     "evalue": "Argument v2 of type <class 'str'> to <function mul at 0x7eff8b03ec20> does not match annotation type <class 'int'>",
     "output_type": "error",
     "traceback": [
      "\u001b[0;31m---------------------------------------------------------------------------\u001b[0m",
      "\u001b[0;31mEnsureError\u001b[0m                               Traceback (most recent call last)",
      "Cell \u001b[0;32mIn[11], line 1\u001b[0m\n\u001b[0;32m----> 1\u001b[0m \u001b[43mmul\u001b[49m\u001b[43m(\u001b[49m\u001b[38;5;241;43m5\u001b[39;49m\u001b[43m,\u001b[49m\u001b[43m \u001b[49m\u001b[38;5;124;43m'\u001b[39;49m\u001b[38;5;124;43m6\u001b[39;49m\u001b[38;5;124;43m'\u001b[39;49m\u001b[43m)\u001b[49m\n",
      "File \u001b[0;32m/opt/conda/lib/python3.10/site-packages/ensure/main.py:833\u001b[0m, in \u001b[0;36mWrappedFunction.__call__\u001b[0;34m(self, *args, **kwargs)\u001b[0m\n\u001b[1;32m    831\u001b[0m     \u001b[38;5;28;01mif\u001b[39;00m \u001b[38;5;129;01mnot\u001b[39;00m \u001b[38;5;28misinstance\u001b[39m(value, templ):\n\u001b[1;32m    832\u001b[0m         msg \u001b[38;5;241m=\u001b[39m \u001b[38;5;124m\"\u001b[39m\u001b[38;5;124mArgument \u001b[39m\u001b[38;5;132;01m{arg}\u001b[39;00m\u001b[38;5;124m of type \u001b[39m\u001b[38;5;132;01m{valt}\u001b[39;00m\u001b[38;5;124m to \u001b[39m\u001b[38;5;132;01m{f}\u001b[39;00m\u001b[38;5;124m \u001b[39m\u001b[38;5;124m\"\u001b[39m \u001b[38;5;124m\"\u001b[39m\u001b[38;5;124mdoes not match annotation type \u001b[39m\u001b[38;5;132;01m{t}\u001b[39;00m\u001b[38;5;124m\"\u001b[39m\n\u001b[0;32m--> 833\u001b[0m         \u001b[38;5;28;01mraise\u001b[39;00m EnsureError(msg\u001b[38;5;241m.\u001b[39mformat(arg\u001b[38;5;241m=\u001b[39marg, f\u001b[38;5;241m=\u001b[39m\u001b[38;5;28mself\u001b[39m\u001b[38;5;241m.\u001b[39mf, t\u001b[38;5;241m=\u001b[39mtempl, valt\u001b[38;5;241m=\u001b[39m\u001b[38;5;28mtype\u001b[39m(value)))\n\u001b[1;32m    835\u001b[0m \u001b[38;5;28;01mreturn\u001b[39;00m \u001b[38;5;28mself\u001b[39m\u001b[38;5;241m.\u001b[39mf(\u001b[38;5;241m*\u001b[39margs, \u001b[38;5;241m*\u001b[39m\u001b[38;5;241m*\u001b[39mkwargs)\n",
      "\u001b[0;31mEnsureError\u001b[0m: Argument v2 of type <class 'str'> to <function mul at 0x7eff8b03ec20> does not match annotation type <class 'int'>"
     ]
    }
   ],
   "source": [
    "mul(5, '6')"
   ]
  },
  {
   "cell_type": "code",
   "execution_count": 5,
   "id": "7633b184-016b-4d1c-8c1a-740d8d9920f3",
   "metadata": {},
   "outputs": [],
   "source": [
    "import sys\n",
    "sys.path.insert(0,'/home/sagemaker-user/Brain-Tumor-Classification-MRI')"
   ]
  }
 ],
 "metadata": {
  "kernelspec": {
   "display_name": "Python 3 (ipykernel)",
   "language": "python",
   "name": "python3"
  },
  "language_info": {
   "codemirror_mode": {
    "name": "ipython",
    "version": 3
   },
   "file_extension": ".py",
   "mimetype": "text/x-python",
   "name": "python",
   "nbconvert_exporter": "python",
   "pygments_lexer": "ipython3",
   "version": "3.10.14"
  }
 },
 "nbformat": 4,
 "nbformat_minor": 5
}
